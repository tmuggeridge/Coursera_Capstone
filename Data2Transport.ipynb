{
 "cells": [
  {
   "cell_type": "code",
   "execution_count": 2,
   "metadata": {},
   "outputs": [
    {
     "name": "stdout",
     "output_type": "stream",
     "text": [
      "Requirement already satisfied: geopy in /opt/anaconda3/lib/python3.8/site-packages (2.1.0)\n",
      "Requirement already satisfied: geographiclib<2,>=1.49 in /opt/anaconda3/lib/python3.8/site-packages (from geopy) (1.50)\n",
      "Requirement already satisfied: folium==0.5.0 in /opt/anaconda3/lib/python3.8/site-packages (0.5.0)\n",
      "Requirement already satisfied: six in /opt/anaconda3/lib/python3.8/site-packages (from folium==0.5.0) (1.15.0)\n",
      "Requirement already satisfied: branca in /opt/anaconda3/lib/python3.8/site-packages (from folium==0.5.0) (0.4.2)\n",
      "Requirement already satisfied: jinja2 in /opt/anaconda3/lib/python3.8/site-packages (from folium==0.5.0) (2.11.2)\n",
      "Requirement already satisfied: requests in /opt/anaconda3/lib/python3.8/site-packages (from folium==0.5.0) (2.24.0)\n",
      "Requirement already satisfied: MarkupSafe>=0.23 in /opt/anaconda3/lib/python3.8/site-packages (from jinja2->folium==0.5.0) (1.1.1)\n",
      "Requirement already satisfied: urllib3!=1.25.0,!=1.25.1,<1.26,>=1.21.1 in /opt/anaconda3/lib/python3.8/site-packages (from requests->folium==0.5.0) (1.25.11)\n",
      "Requirement already satisfied: certifi>=2017.4.17 in /opt/anaconda3/lib/python3.8/site-packages (from requests->folium==0.5.0) (2020.6.20)\n",
      "Requirement already satisfied: idna<3,>=2.5 in /opt/anaconda3/lib/python3.8/site-packages (from requests->folium==0.5.0) (2.10)\n",
      "Requirement already satisfied: chardet<4,>=3.0.2 in /opt/anaconda3/lib/python3.8/site-packages (from requests->folium==0.5.0) (3.0.4)\n",
      "Folium installed\n",
      "Libraries imported.\n"
     ]
    }
   ],
   "source": [
    "import requests # library to handle requests\n",
    "import pandas as pd # library for data analsysis\n",
    "import numpy as np # library to handle data in a vectorized manner\n",
    "import random # library for random number generation\n",
    "\n",
    "\n",
    "!pip install geopy\n",
    "from geopy.geocoders import Nominatim # module to convert an address into latitude and longitude values\n",
    "\n",
    "# libraries for displaying images\n",
    "from IPython.display import Image \n",
    "from IPython.core.display import HTML \n",
    "    \n",
    "# tranforming json file into a pandas dataframe library\n",
    "from pandas.io.json import json_normalize\n",
    "\n",
    "\n",
    "!pip install folium==0.5.0\n",
    "import folium # plotting library\n",
    "\n",
    "print('Folium installed')\n",
    "print('Libraries imported.')"
   ]
  },
  {
   "cell_type": "code",
   "execution_count": 3,
   "metadata": {},
   "outputs": [
    {
     "name": "stdout",
     "output_type": "stream",
     "text": [
      "Your credentails:\n",
      "CLIENT_ID: DECG5NCLGBGNTWUBVQ2IRGROZQ24HM2YHUK4ANSCRKAIFHC5\n",
      "CLIENT_SECRET:KGU04ET2MXYH0TMIXFKLAUHIGEMB1HPXDUVJQAI4L5AWVY1Y\n"
     ]
    }
   ],
   "source": [
    "CLIENT_ID = 'DECG5NCLGBGNTWUBVQ2IRGROZQ24HM2YHUK4ANSCRKAIFHC5' # your Foursquare ID\n",
    "CLIENT_SECRET = 'KGU04ET2MXYH0TMIXFKLAUHIGEMB1HPXDUVJQAI4L5AWVY1Y' # your Foursquare Secret\n",
    "ACCESS_TOKEN = 'MYSNGFZTLM11XWBO1KNSML400WNFTVHLOS22HHVPW2GBOTBP' # your FourSquare Access Token\n",
    "VERSION = '20180604'\n",
    "LIMIT = 30\n",
    "print('Your credentails:')\n",
    "print('CLIENT_ID: ' + CLIENT_ID)\n",
    "print('CLIENT_SECRET:' + CLIENT_SECRET)"
   ]
  },
  {
   "cell_type": "code",
   "execution_count": 4,
   "metadata": {},
   "outputs": [
    {
     "name": "stderr",
     "output_type": "stream",
     "text": [
      "<ipython-input-4-32b7e4b48aa7>:15: FutureWarning: pandas.io.json.json_normalize is deprecated, use pandas.json_normalize instead\n",
      "  dataframe = json_normalize(venues)\n"
     ]
    },
    {
     "data": {
      "text/plain": [
       "(6, 15)"
      ]
     },
     "execution_count": 4,
     "metadata": {},
     "output_type": "execute_result"
    }
   ],
   "source": [
    "address = 'Vauxhall, London'\n",
    "\n",
    "geolocator = Nominatim(user_agent=\"foursquare_agent\")\n",
    "location = geolocator.geocode(address)\n",
    "latitude = location.latitude\n",
    "longitude = location.longitude\n",
    "search_query = 'Underground'\n",
    "radius = 1000\n",
    "url = 'https://api.foursquare.com/v2/venues/search?client_id={}&client_secret={}&ll={},{}&oauth_token={}&v={}&query={}&radius={}&limit={}'.format(CLIENT_ID, CLIENT_SECRET, latitude, longitude,ACCESS_TOKEN, VERSION, search_query, radius, LIMIT)\n",
    "results = requests.get(url).json()\n",
    "# assign relevant part of JSON to venues\n",
    "venues = results['response']['venues']\n",
    "\n",
    "# tranform venues into a dataframe\n",
    "dataframe = json_normalize(venues)\n",
    "# keep only columns that include venue name, and anything that is associated with location\n",
    "filtered_columns = ['name', 'categories'] + [col for col in dataframe.columns if col.startswith('location.')] + ['id']\n",
    "dataframe_filtered = dataframe.loc[:, filtered_columns]\n",
    "\n",
    "# function that extracts the category of the venue\n",
    "def get_category_type(row):\n",
    "    try:\n",
    "        categories_list = row['categories']\n",
    "    except:\n",
    "        categories_list = row['venue.categories']\n",
    "        \n",
    "    if len(categories_list) == 0:\n",
    "        return None\n",
    "    else:\n",
    "        return categories_list[0]['name']\n",
    "\n",
    "# filter the category for each row\n",
    "dataframe_filtered['categories'] = dataframe_filtered.apply(get_category_type, axis=1)\n",
    "\n",
    "# clean column names by keeping only last term\n",
    "dataframe_filtered.columns = [column.split('.')[-1] for column in dataframe_filtered.columns]\n",
    "dataframe_filtered.shape"
   ]
  },
  {
   "cell_type": "code",
   "execution_count": 5,
   "metadata": {},
   "outputs": [
    {
     "name": "stderr",
     "output_type": "stream",
     "text": [
      "<ipython-input-5-27192d4a8e9a>:15: FutureWarning: pandas.io.json.json_normalize is deprecated, use pandas.json_normalize instead\n",
      "  dataframe = json_normalize(venues)\n"
     ]
    },
    {
     "data": {
      "text/plain": [
       "(5, 15)"
      ]
     },
     "execution_count": 5,
     "metadata": {},
     "output_type": "execute_result"
    }
   ],
   "source": [
    "address = '1 King William Street'\n",
    "\n",
    "geolocator = Nominatim(user_agent=\"foursquare_agent\")\n",
    "location = geolocator.geocode(address)\n",
    "latitude = location.latitude\n",
    "longitude = location.longitude\n",
    "search_query = 'Underground'\n",
    "radius = 1000\n",
    "url = 'https://api.foursquare.com/v2/venues/search?client_id={}&client_secret={}&ll={},{}&oauth_token={}&v={}&query={}&radius={}&limit={}'.format(CLIENT_ID, CLIENT_SECRET, latitude, longitude,ACCESS_TOKEN, VERSION, search_query, radius, LIMIT)\n",
    "results = requests.get(url).json()\n",
    "# assign relevant part of JSON to venues\n",
    "venues = results['response']['venues']\n",
    "\n",
    "# tranform venues into a dataframe\n",
    "dataframe = json_normalize(venues)\n",
    "# keep only columns that include venue name, and anything that is associated with location\n",
    "filtered_columns = ['name', 'categories'] + [col for col in dataframe.columns if col.startswith('location.')] + ['id']\n",
    "dataframe_filtered = dataframe.loc[:, filtered_columns]\n",
    "\n",
    "# function that extracts the category of the venue\n",
    "def get_category_type(row):\n",
    "    try:\n",
    "        categories_list = row['categories']\n",
    "    except:\n",
    "        categories_list = row['venue.categories']\n",
    "        \n",
    "    if len(categories_list) == 0:\n",
    "        return None\n",
    "    else:\n",
    "        return categories_list[0]['name']\n",
    "\n",
    "# filter the category for each row\n",
    "dataframe_filtered['categories'] = dataframe_filtered.apply(get_category_type, axis=1)\n",
    "\n",
    "# clean column names by keeping only last term\n",
    "dataframe_filtered.columns = [column.split('.')[-1] for column in dataframe_filtered.columns]\n",
    "dataframe_filtered.shape"
   ]
  },
  {
   "cell_type": "code",
   "execution_count": 6,
   "metadata": {},
   "outputs": [
    {
     "name": "stderr",
     "output_type": "stream",
     "text": [
      "<ipython-input-6-a9610a4622bb>:15: FutureWarning: pandas.io.json.json_normalize is deprecated, use pandas.json_normalize instead\n",
      "  dataframe = json_normalize(venues)\n"
     ]
    },
    {
     "data": {
      "text/plain": [
       "(9, 16)"
      ]
     },
     "execution_count": 6,
     "metadata": {},
     "output_type": "execute_result"
    }
   ],
   "source": [
    "address = '221b Baker Street, London'\n",
    "\n",
    "geolocator = Nominatim(user_agent=\"foursquare_agent\")\n",
    "location = geolocator.geocode(address)\n",
    "latitude = location.latitude\n",
    "longitude = location.longitude\n",
    "search_query = 'Underground'\n",
    "radius = 1000\n",
    "url = 'https://api.foursquare.com/v2/venues/search?client_id={}&client_secret={}&ll={},{}&oauth_token={}&v={}&query={}&radius={}&limit={}'.format(CLIENT_ID, CLIENT_SECRET, latitude, longitude,ACCESS_TOKEN, VERSION, search_query, radius, LIMIT)\n",
    "results = requests.get(url).json()\n",
    "# assign relevant part of JSON to venues\n",
    "venues = results['response']['venues']\n",
    "\n",
    "# tranform venues into a dataframe\n",
    "dataframe = json_normalize(venues)\n",
    "# keep only columns that include venue name, and anything that is associated with location\n",
    "filtered_columns = ['name', 'categories'] + [col for col in dataframe.columns if col.startswith('location.')] + ['id']\n",
    "dataframe_filtered = dataframe.loc[:, filtered_columns]\n",
    "\n",
    "# function that extracts the category of the venue\n",
    "def get_category_type(row):\n",
    "    try:\n",
    "        categories_list = row['categories']\n",
    "    except:\n",
    "        categories_list = row['venue.categories']\n",
    "        \n",
    "    if len(categories_list) == 0:\n",
    "        return None\n",
    "    else:\n",
    "        return categories_list[0]['name']\n",
    "\n",
    "# filter the category for each row\n",
    "dataframe_filtered['categories'] = dataframe_filtered.apply(get_category_type, axis=1)\n",
    "\n",
    "# clean column names by keeping only last term\n",
    "dataframe_filtered.columns = [column.split('.')[-1] for column in dataframe_filtered.columns]\n",
    "dataframe_filtered.shape"
   ]
  },
  {
   "cell_type": "code",
   "execution_count": 7,
   "metadata": {},
   "outputs": [
    {
     "name": "stderr",
     "output_type": "stream",
     "text": [
      "<ipython-input-7-56e0a3808d78>:15: FutureWarning: pandas.io.json.json_normalize is deprecated, use pandas.json_normalize instead\n",
      "  dataframe = json_normalize(venues)\n"
     ]
    },
    {
     "data": {
      "text/plain": [
       "(14, 16)"
      ]
     },
     "execution_count": 7,
     "metadata": {},
     "output_type": "execute_result"
    }
   ],
   "source": [
    "address = '13 Brick Ln, Spitalfields, London'\n",
    "\n",
    "geolocator = Nominatim(user_agent=\"foursquare_agent\")\n",
    "location = geolocator.geocode(address)\n",
    "latitude = location.latitude\n",
    "longitude = location.longitude\n",
    "search_query = 'Underground'\n",
    "radius = 1000\n",
    "url = 'https://api.foursquare.com/v2/venues/search?client_id={}&client_secret={}&ll={},{}&oauth_token={}&v={}&query={}&radius={}&limit={}'.format(CLIENT_ID, CLIENT_SECRET, latitude, longitude,ACCESS_TOKEN, VERSION, search_query, radius, LIMIT)\n",
    "results = requests.get(url).json()\n",
    "# assign relevant part of JSON to venues\n",
    "venues = results['response']['venues']\n",
    "\n",
    "# tranform venues into a dataframe\n",
    "dataframe = json_normalize(venues)\n",
    "# keep only columns that include venue name, and anything that is associated with location\n",
    "filtered_columns = ['name', 'categories'] + [col for col in dataframe.columns if col.startswith('location.')] + ['id']\n",
    "dataframe_filtered = dataframe.loc[:, filtered_columns]\n",
    "\n",
    "# function that extracts the category of the venue\n",
    "def get_category_type(row):\n",
    "    try:\n",
    "        categories_list = row['categories']\n",
    "    except:\n",
    "        categories_list = row['venue.categories']\n",
    "        \n",
    "    if len(categories_list) == 0:\n",
    "        return None\n",
    "    else:\n",
    "        return categories_list[0]['name']\n",
    "\n",
    "# filter the category for each row\n",
    "dataframe_filtered['categories'] = dataframe_filtered.apply(get_category_type, axis=1)\n",
    "\n",
    "# clean column names by keeping only last term\n",
    "dataframe_filtered.columns = [column.split('.')[-1] for column in dataframe_filtered.columns]\n",
    "dataframe_filtered.shape"
   ]
  },
  {
   "cell_type": "code",
   "execution_count": 8,
   "metadata": {},
   "outputs": [
    {
     "data": {
      "text/plain": [
       "<bound method NDFrame.head of                                                  name     categories  \\\n",
       "0             Aldgate East London Underground Station  Metro Station   \n",
       "1             Bank London Underground and DLR Station  Metro Station   \n",
       "2                  Aldgate London Underground Station  Metro Station   \n",
       "3   Whitechapel London Underground and London Over...  Metro Station   \n",
       "4               Tower Hill London Underground Station  Metro Station   \n",
       "5         Liverpool Street London Underground Station  Metro Station   \n",
       "6                    Shoreditch Underground (Disused)  Historic Site   \n",
       "7                                 Village Underground    Music Venue   \n",
       "8                 Monument London Underground Station  Metro Station   \n",
       "9                           Velvet Underground Tattoo  Tattoo Parlor   \n",
       "10                                         Platform 4       Platform   \n",
       "11                 Platform 1 (E'bound District, H&C)       Platform   \n",
       "12                                          Starbucks    Coffee Shop   \n",
       "13              Platform 2 (E'bound Circle, District)       Platform   \n",
       "\n",
       "                                              address        lat       lng  \\\n",
       "0                                 Whitechapel High St  51.515328 -0.071333   \n",
       "1                                          Princes St  51.513390 -0.087870   \n",
       "2                                     Aldgate High St  51.514404 -0.075733   \n",
       "3                                  277 Whitechapel Rd  51.519477 -0.061517   \n",
       "4                                          Trinity Sq  51.509943 -0.076364   \n",
       "5                                        Liverpool St  51.517959 -0.082209   \n",
       "6                                          Pedley St.  51.522654 -0.070830   \n",
       "7                                      54 Holywell Ln  51.523552 -0.078558   \n",
       "8                                     King William St  51.510464 -0.086095   \n",
       "9                               103 Whitecross Street  51.520320 -0.070704   \n",
       "10                     Liverpool Street Station (LST)  51.518170 -0.081875   \n",
       "11  Whitechapel London Underground and London Over...  51.519494 -0.061619   \n",
       "12                           Liverpool Street Station  51.517454 -0.080877   \n",
       "13                Monument London Underground Station  51.510401 -0.085907   \n",
       "\n",
       "                                       labeledLatLngs  distance postalCode  \\\n",
       "0   [{'label': 'display', 'lat': 51.51532774481223...       273     E1 7PT   \n",
       "1   [{'label': 'display', 'lat': 51.51339045553031...      1257   EC3V 3LA   \n",
       "2   [{'label': 'display', 'lat': 51.51440357580745...       492   EC3N 1AH   \n",
       "3   [{'label': 'display', 'lat': 51.51947713704059...       692     E1 1BY   \n",
       "4   [{'label': 'display', 'lat': 51.50994295197534...       944   EC3N 4DJ   \n",
       "5   [{'label': 'display', 'lat': 51.51795887045512...       767   EC2M 7PP   \n",
       "6   [{'label': 'display', 'lat': 51.52265422184602...       542     E1 5ER   \n",
       "7   [{'label': 'display', 'lat': 51.52355222406034...       822   EC2A 3PQ   \n",
       "8   [{'label': 'display', 'lat': 51.51046405963689...      1317   EC4R 9AA   \n",
       "9   [{'label': 'display', 'lat': 51.52032, 'lng': ...       284   EC1Y 8JD   \n",
       "10  [{'label': 'display', 'lat': 51.51817042385139...       744   EC2M 7PY   \n",
       "11  [{'label': 'display', 'lat': 51.51949416059669...       686        NaN   \n",
       "12  [{'label': 'display', 'lat': 51.517454, 'lng':...       675   EC2M 7PY   \n",
       "13  [{'label': 'display', 'lat': 51.510401, 'lng':...      1312        NaN   \n",
       "\n",
       "    cc neighborhood         city           state         country  \\\n",
       "0   GB      Aldgate      Aldgate  Greater London  United Kingdom   \n",
       "1   GB          NaN       London  Greater London  United Kingdom   \n",
       "2   GB          NaN       London  Greater London  United Kingdom   \n",
       "3   GB          NaN  Whitechapel  Greater London  United Kingdom   \n",
       "4   GB          NaN   Tower Hill  Greater London  United Kingdom   \n",
       "5   GB  Bishopsgate       London  Greater London  United Kingdom   \n",
       "6   GB          NaN   Shoreditch  Greater London  United Kingdom   \n",
       "7   GB          NaN   Shoreditch  Greater London  United Kingdom   \n",
       "8   GB          NaN       London  Greater London  United Kingdom   \n",
       "9   GB          NaN       London  Greater London  United Kingdom   \n",
       "10  GB          NaN       London  Greater London  United Kingdom   \n",
       "11  GB          NaN  Whitechapel  Greater London  United Kingdom   \n",
       "12  GB          NaN       London  Greater London  United Kingdom   \n",
       "13  GB          NaN       London  Greater London  United Kingdom   \n",
       "\n",
       "                                     formattedAddress           crossStreet  \\\n",
       "0   [Whitechapel High St, Aldgate, Greater London,...                   NaN   \n",
       "1   [Princes St (at Queen Victoria St), London, Gr...  at Queen Victoria St   \n",
       "2   [Aldgate High St, London, Greater London, EC3N...                   NaN   \n",
       "3   [277 Whitechapel Rd, Whitechapel, Greater Lond...                   NaN   \n",
       "4   [Trinity Sq, Tower Hill, Greater London, EC3N ...                   NaN   \n",
       "5   [Liverpool St (at Bishopsgate), London, Greate...        at Bishopsgate   \n",
       "6    [Pedley St., Shoreditch, Greater London, E1 5ER]                   NaN   \n",
       "7   [54 Holywell Ln, Shoreditch, Greater London, E...                   NaN   \n",
       "8   [King William St, London, Greater London, EC4R...                   NaN   \n",
       "9   [103 Whitecross Street, London, Greater London...                   NaN   \n",
       "10  [Liverpool Street Station (LST), London, Great...                   NaN   \n",
       "11  [Whitechapel London Underground and London Ove...                   NaN   \n",
       "12  [Liverpool Street Station (Lower Concourse), L...       Lower Concourse   \n",
       "13  [Monument London Underground Station, London, ...                   NaN   \n",
       "\n",
       "                          id  \n",
       "0   4b426182f964a520bfd225e3  \n",
       "1   4ad0cba7f964a520ded920e3  \n",
       "2   4c624dddec94a593f21229ca  \n",
       "3   4b45a9aef964a520190f26e3  \n",
       "4   4acdffcff964a520d3cd20e3  \n",
       "5   4c659a418e9120a18fa4d564  \n",
       "6   4de67f05091a6f222ec29eb7  \n",
       "7   4ac518ebf964a52041ac20e3  \n",
       "8   4b81174df964a520609630e3  \n",
       "9   59d8b59dd7627e427d16ab21  \n",
       "10  4c98ed89b6ee236ab966aca7  \n",
       "11  559254a1498e4f415a0f27d6  \n",
       "12  4ad8c207f964a520691421e3  \n",
       "13  53956346498ea18b1ca19aac  >"
      ]
     },
     "execution_count": 8,
     "metadata": {},
     "output_type": "execute_result"
    }
   ],
   "source": [
    "dataframe_filtered.head"
   ]
  },
  {
   "cell_type": "code",
   "execution_count": null,
   "metadata": {},
   "outputs": [],
   "source": []
  }
 ],
 "metadata": {
  "kernelspec": {
   "display_name": "Python 3",
   "language": "python",
   "name": "python3"
  },
  "language_info": {
   "codemirror_mode": {
    "name": "ipython",
    "version": 3
   },
   "file_extension": ".py",
   "mimetype": "text/x-python",
   "name": "python",
   "nbconvert_exporter": "python",
   "pygments_lexer": "ipython3",
   "version": "3.8.5"
  }
 },
 "nbformat": 4,
 "nbformat_minor": 4
}

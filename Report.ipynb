{
 "cells": [
  {
   "cell_type": "markdown",
   "metadata": {},
   "source": [
    "## Introduction/Business Problem"
   ]
  },
  {
   "cell_type": "markdown",
   "metadata": {},
   "source": [
    "The business problem to be solved in this report will be based on the following key question for a fictional new challenger bank based in the UK:\n",
    "\n",
    "Where should the situate their new office?\n",
    "\n",
    "This sounds like a simple enough question, but there are many key factors to be considered. For example the company will want to:\n",
    "1) Maximise the sqft/£ of their office space, providing good value.\n",
    "\n",
    "2) Be located in a place with access to multiple transport links so that employees and business partners can travel to work easily.\n",
    "\n",
    "3) Be located in a neighbourhood with a wide variety of coffee shops/restaurants/take aways nearby in order to be an attractive place for staff to work.\n",
    "\n",
    "4) Be located near to the offices of other financial services companies in order to allow easy b2b interactions. This will be particularly important for fundraising rounds. \n",
    "\n",
    "The target audience of this report are the fictional directors of the challenger bank. I will present my findings in a way that different weightings of importance can be placed upon the 4 different factors above. It will be important to provide multiple options to allow for the risk of incompletion in the procurement process, whilst also recommending one particular option that matches the criteria most suitably. \n",
    "\n",
    "The directors want to solve this problem so that they can establish their headquarters in the optimal place in order to maximise the chances of business success. "
   ]
  },
  {
   "cell_type": "markdown",
   "metadata": {},
   "source": [
    "## Data"
   ]
  },
  {
   "cell_type": "markdown",
   "metadata": {},
   "source": [
    "The data collected and analysed for this report will tie in to the four key factors above which will be considered when chosing the optimum location for the new HQ of the challenger bank. \n",
    "\n",
    "1) Rent costs: I will work with data of office rents in particular neighbourhoods and areas, and the associated square footage of the space available for that price. If for any reason this data is not available, I will use house price or private renting data to establish which areas are most expensive and which have the best value.\n",
    "\n",
    "2) Transport: I will use Foursquare data to establish the distance of different neighbourhoods to transport links such as rail, bus, and cycle paths. \n",
    "\n",
    "3) Amenities: I will use Foursquare data to look at the density and variety of food establishments within certain neighbourhoods. \n",
    "\n",
    "4) Financial District: I will use Foursquare data to establish where other financial services companies place their offices and calculate distances to these centres from different neighbourhoods in the city. "
   ]
  },
  {
   "cell_type": "markdown",
   "metadata": {},
   "source": [
    "## Methodology"
   ]
  },
  {
   "cell_type": "markdown",
   "metadata": {},
   "source": [
    "First of all, I chose 4 locations as my supposed candidates for office locations, as if these had been given to me by the company founders. These were in a mix of places across London, one in the north west, one south of the river, one in the City of London, and one in East London. \n",
    "\n",
    "The first code I ran was to explore these different sites using the Foursquare API. I then recorded the number of returns received at each of these locations for queries relating to 'food' and then also 'underground' to account for transportation. I then produced a matrix for these results. \n",
    "\n",
    "Secondly I obtained a dataset of average private rent prices in London boroughs off the data.london.gov.uk website. I converted this data into a pandas dataframe, cleaned it, and compared the average rent prices in the four locations listed above. I then entered these into my summary matrix. "
   ]
  },
  {
   "cell_type": "markdown",
   "metadata": {},
   "source": [
    "## Results"
   ]
  },
  {
   "cell_type": "markdown",
   "metadata": {},
   "source": [
    "Eateries: All venues scored highly in terms of eateries, but Vauxhall was the only area not to return the maximum search results.\n",
    "\n",
    "Transport Links: Brick lane was a clear winner in terms of transport links, with significantly more results reflecting its connectivity with the Underground, National Rail, and DLR networks.\n",
    "\n",
    "Distance to the City of London: Bank/Monument is the clear winner here, though Brick lane comes a close second.\n",
    "\n",
    "Average Rent Price: 221b Baker Street was significantly more expensive than all other options. Vauxhall was the cheapest but Brick Lane was only slightly more expensive, with less than £100pcm separating them. "
   ]
  },
  {
   "cell_type": "markdown",
   "metadata": {},
   "source": [
    "| Location | Eateries | Transport Links | Distance to City of London (/10) | Avg Rent Price (£) |\n",
    "| --- | --- | --- | --- | --- |\n",
    "| 221b Baker Street | 30 | 9 | 2 | 2359.49 |\n",
    "| Vauxhall | 20 | 6 | 5 | 1214.02 |\n",
    "| Brick Lane | 30 | 14 | 8 | 1303.86 |\n",
    "| Bank/Monument | 30 | 5 | 10 | 1713.48 |"
   ]
  },
  {
   "cell_type": "markdown",
   "metadata": {},
   "source": [
    "## Discussion"
   ]
  },
  {
   "cell_type": "markdown",
   "metadata": {},
   "source": [
    "To improve this report, I would look to dive deeper into the items returned for the 'food' and 'underground' queries, and look at a way to score the value of these returns, not just their number. For example, if a location has a good range of places to eat and drink - from coffee shops, to supermarkets, to restaurants - compared to just lots of type (e.g. supermarkets) then the former should score more highly than the latter. "
   ]
  },
  {
   "cell_type": "markdown",
   "metadata": {},
   "source": [
    "## Conclusion"
   ]
  },
  {
   "cell_type": "markdown",
   "metadata": {},
   "source": [
    "After analysing the different data and creating a scoring matrix, I would recommend Brick Lane as the best location to place the new offices for the challenger bank. It is the best option because it has a high number of eateries, good transport links, is close to the city of London yet the average rent price is very affordable. This would make it an ideal choice for location of the new HQ. "
   ]
  }
 ],
 "metadata": {
  "kernelspec": {
   "display_name": "Python 3",
   "language": "python",
   "name": "python3"
  },
  "language_info": {
   "name": ""
  }
 },
 "nbformat": 4,
 "nbformat_minor": 4
}

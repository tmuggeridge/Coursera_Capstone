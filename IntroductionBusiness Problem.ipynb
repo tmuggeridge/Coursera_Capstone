{
 "cells": [
  {
   "cell_type": "markdown",
   "metadata": {},
   "source": [
    "## Introduction/Business Problem"
   ]
  },
  {
   "cell_type": "markdown",
   "metadata": {},
   "source": [
    "The business problem to be solved in this report will be based on the following key question for a fictional new challenger bank based in the UK:\n",
    "\n",
    "Where should the situate their new office?\n",
    "\n",
    "This sounds like a simple enough question, but there are many key factors to be considered. For example the company will want to:\n",
    "1) Maximise the sqft/£ of their office space, providing good value.\n",
    "\n",
    "2) Be located in a place with access to multiple transport links so that employees and business partners can travel to work easily.\n",
    "\n",
    "3) Be located in a neighbourhood with a wide variety of coffee shops/restaurants/take aways nearby in order to be an attractive place for staff to work.\n",
    "\n",
    "4) Be located near to the offices of other financial services companies in order to allow easy b2b interactions. This will be particularly important for fundraising rounds. \n",
    "\n",
    "The target audience of this report are the fictional directors of the challenger bank. I will present my findings in a way that different weightings of importance can be placed upon the 4 different factors above. It will be important to provide multiple options to allow for the risk of incompletion in the procurement process, whilst also recommending one particular option that matches the criteria most suitably. \n",
    "\n",
    "The directors want to solve this problem so that they can establish their headquarters in the optimal place in order to maximise the chances of business success. "
   ]
  },
  {
   "cell_type": "code",
   "execution_count": null,
   "metadata": {},
   "outputs": [],
   "source": []
  }
 ],
 "metadata": {
  "kernelspec": {
   "display_name": "Python 3",
   "language": "python",
   "name": "python3"
  },
  "language_info": {
   "codemirror_mode": {
    "name": "ipython",
    "version": 3
   },
   "file_extension": ".py",
   "mimetype": "text/x-python",
   "name": "python",
   "nbconvert_exporter": "python",
   "pygments_lexer": "ipython3",
   "version": "3.8.5"
  }
 },
 "nbformat": 4,
 "nbformat_minor": 4
}
